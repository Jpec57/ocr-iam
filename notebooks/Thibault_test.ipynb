{
 "cells": [
  {
   "cell_type": "code",
   "execution_count": 1,
   "id": "dc6c33f7",
   "metadata": {},
   "outputs": [
    {
     "data": {
      "text/html": [
       "<div>\n",
       "<style scoped>\n",
       "    .dataframe tbody tr th:only-of-type {\n",
       "        vertical-align: middle;\n",
       "    }\n",
       "\n",
       "    .dataframe tbody tr th {\n",
       "        vertical-align: top;\n",
       "    }\n",
       "\n",
       "    .dataframe thead th {\n",
       "        text-align: right;\n",
       "    }\n",
       "</style>\n",
       "<table border=\"1\" class=\"dataframe\">\n",
       "  <thead>\n",
       "    <tr style=\"text-align: right;\">\n",
       "      <th></th>\n",
       "      <th>FormID</th>\n",
       "      <th>WriterID</th>\n",
       "      <th>NbSentences</th>\n",
       "      <th>WdSeg</th>\n",
       "      <th>Lines</th>\n",
       "      <th>OkSegLines</th>\n",
       "      <th>NbWords</th>\n",
       "      <th>OkNbWords</th>\n",
       "    </tr>\n",
       "  </thead>\n",
       "  <tbody>\n",
       "    <tr>\n",
       "      <th>0</th>\n",
       "      <td>a01-000u</td>\n",
       "      <td>0</td>\n",
       "      <td>2</td>\n",
       "      <td>prt</td>\n",
       "      <td>7</td>\n",
       "      <td>5</td>\n",
       "      <td>52</td>\n",
       "      <td>36</td>\n",
       "    </tr>\n",
       "    <tr>\n",
       "      <th>1</th>\n",
       "      <td>a01-000x</td>\n",
       "      <td>1</td>\n",
       "      <td>2</td>\n",
       "      <td>all</td>\n",
       "      <td>6</td>\n",
       "      <td>6</td>\n",
       "      <td>52</td>\n",
       "      <td>52</td>\n",
       "    </tr>\n",
       "    <tr>\n",
       "      <th>2</th>\n",
       "      <td>a01-003</td>\n",
       "      <td>2</td>\n",
       "      <td>3</td>\n",
       "      <td>prt</td>\n",
       "      <td>11</td>\n",
       "      <td>10</td>\n",
       "      <td>81</td>\n",
       "      <td>71</td>\n",
       "    </tr>\n",
       "    <tr>\n",
       "      <th>3</th>\n",
       "      <td>a01-003u</td>\n",
       "      <td>0</td>\n",
       "      <td>3</td>\n",
       "      <td>prt</td>\n",
       "      <td>11</td>\n",
       "      <td>10</td>\n",
       "      <td>80</td>\n",
       "      <td>73</td>\n",
       "    </tr>\n",
       "    <tr>\n",
       "      <th>4</th>\n",
       "      <td>a01-003x</td>\n",
       "      <td>3</td>\n",
       "      <td>3</td>\n",
       "      <td>prt</td>\n",
       "      <td>9</td>\n",
       "      <td>6</td>\n",
       "      <td>82</td>\n",
       "      <td>56</td>\n",
       "    </tr>\n",
       "  </tbody>\n",
       "</table>\n",
       "</div>"
      ],
      "text/plain": [
       "     FormID  WriterID  NbSentences WdSeg  Lines  OkSegLines  NbWords  \\\n",
       "0  a01-000u         0            2   prt      7           5       52   \n",
       "1  a01-000x         1            2   all      6           6       52   \n",
       "2   a01-003         2            3   prt     11          10       81   \n",
       "3  a01-003u         0            3   prt     11          10       80   \n",
       "4  a01-003x         3            3   prt      9           6       82   \n",
       "\n",
       "   OkNbWords  \n",
       "0         36  \n",
       "1         52  \n",
       "2         71  \n",
       "3         73  \n",
       "4         56  "
      ]
     },
     "execution_count": 1,
     "metadata": {},
     "output_type": "execute_result"
    }
   ],
   "source": [
    "import pandas as pd\n",
    "import numpy as np\n",
    "import seaborn as sns\n",
    "import matplotlib.pyplot as plt\n",
    "\n",
    "df = pd.read_csv(r\"D:\\$plouf\\Formation DS\\projet\\dataset\\tar\\ascii\\forms_clean.txt\", sep=\" \")\n",
    "\n",
    "df.head()"
   ]
  },
  {
   "cell_type": "code",
   "execution_count": 76,
   "id": "0a6c519e",
   "metadata": {},
   "outputs": [
    {
     "data": {
      "image/png": "[encoded data removed]",
      "text/plain": [
       "<Figure size 360x360 with 1 Axes>"
      ]
     },
     "metadata": {
      "needs_background": "light"
     },
     "output_type": "display_data"
    },
    {
     "name": "stdout",
     "output_type": "stream",
     "text": [
      "Nombre total :  657\n",
      "Nombre de 3+ :  159\n",
      "Nombre de 5+ :  93\n"
     ]
    }
   ],
   "source": [
    "#Nombre de formulaires remplis par personnne\n",
    "nb_forms_pw = df[[\"FormID\", \"WriterID\"]].groupby(\"WriterID\").count()\n",
    "nb_forms_pw.columns = ['NbForms']\n",
    "\n",
    "# sns.relplot(x=\"WriterID\", y=\"NbForms\", data=nb_forms_pw)\n",
    "sns.displot(x=\"NbForms\", data=nb_forms_pw[nb_forms_pw['NbForms'] < 50])\n",
    "\n",
    "plt.title(\"Nb de fomulaires par auteur (sans l'outlier)\")\n",
    "plt.show()\n",
    "\n",
    "print('Nombre total : ', nb_forms_pw.shape[0])\n",
    "print('Nombre de 3+ : ', nb_forms_pw[nb_forms_pw[\"NbForms\"] >= 3].shape[0])\n",
    "print('Nombre de 5+ : ', nb_forms_pw[nb_forms_pw[\"NbForms\"] >= 5].shape[0])\n",
    "\n",
    "### Ne pas prendre plus d'un formulaire par auteur lors de la découpe des sets training, validation et test ?\n"
   ]
  },
  {
   "cell_type": "code",
   "execution_count": 3,
   "id": "f2545573",
   "metadata": {},
   "outputs": [],
   "source": [
    "#Analyse des fichiers xml sur les forms\n",
    "from lxml import etree\n",
    "\n",
    "def get_words_from_form(filepath):\n",
    "    words = []\n",
    "    tree = etree.parse(filepath)\n",
    "    for word in tree.xpath(\"/form/handwritten-part/line/word\"):\n",
    "        words.append(word.get('text'))\n",
    "    return words"
   ]
  },
  {
   "cell_type": "code",
   "execution_count": 4,
   "id": "79491b03",
   "metadata": {},
   "outputs": [
    {
     "name": "stdout",
     "output_type": "stream",
     "text": [
      "Nombre de forms chargés :  1539\n",
      "Nombre de mots chargés :  115320\n",
      "Nombre de lettres chargées :  475702\n"
     ]
    }
   ],
   "source": [
    "# parcours de tous les fichiers d'un dossier et ses sous-dossiers, possibilité de spécifier une extension et la recherche parmis les sous dossiers\n",
    "import glob\n",
    "\n",
    "def get_files(path, ext='', sub=False):\n",
    "    if sub == True:\n",
    "        path = path + '/**'     \n",
    "    if ext != '':\n",
    "        path = path + '/*.' + ext\n",
    "    else:\n",
    "        path = path + '/*.*'  # le . filtre les dossiers  \n",
    "    files = glob.glob(path, recursive=sub)\n",
    "    return files\n",
    "\n",
    "\n",
    "all_files = get_files(r'D:\\$plouf\\Formation DS\\projet\\dataset\\tar\\xml', ext='xml', sub=True)\n",
    "all_words = []\n",
    "for file in all_files:\n",
    "    all_words.extend(get_words_from_form(file))\n",
    "all_letters = []\n",
    "for word in all_words:\n",
    "    all_letters.extend(list(word))\n",
    "all_letters.sort()    \n",
    "\n",
    "print('Nombre de forms chargés : ',len(all_files))\n",
    "print('Nombre de mots chargés : ', len(all_words))\n",
    "print('Nombre de lettres chargées : ', len(all_letters))\n"
   ]
  },
  {
   "cell_type": "code",
   "execution_count": 5,
   "id": "092b9a74",
   "metadata": {},
   "outputs": [
    {
     "data": {
      "text/html": [
       "<div>\n",
       "<style scoped>\n",
       "    .dataframe tbody tr th:only-of-type {\n",
       "        vertical-align: middle;\n",
       "    }\n",
       "\n",
       "    .dataframe tbody tr th {\n",
       "        vertical-align: top;\n",
       "    }\n",
       "\n",
       "    .dataframe thead th {\n",
       "        text-align: right;\n",
       "    }\n",
       "</style>\n",
       "<table border=\"1\" class=\"dataframe\">\n",
       "  <thead>\n",
       "    <tr style=\"text-align: right;\">\n",
       "      <th></th>\n",
       "      <th>words</th>\n",
       "      <th>len</th>\n",
       "    </tr>\n",
       "  </thead>\n",
       "  <tbody>\n",
       "    <tr>\n",
       "      <th>0</th>\n",
       "      <td>A</td>\n",
       "      <td>1</td>\n",
       "    </tr>\n",
       "    <tr>\n",
       "      <th>1</th>\n",
       "      <td>MOVE</td>\n",
       "      <td>4</td>\n",
       "    </tr>\n",
       "    <tr>\n",
       "      <th>2</th>\n",
       "      <td>to</td>\n",
       "      <td>2</td>\n",
       "    </tr>\n",
       "    <tr>\n",
       "      <th>3</th>\n",
       "      <td>stop</td>\n",
       "      <td>4</td>\n",
       "    </tr>\n",
       "    <tr>\n",
       "      <th>4</th>\n",
       "      <td>Mr.</td>\n",
       "      <td>3</td>\n",
       "    </tr>\n",
       "    <tr>\n",
       "      <th>5</th>\n",
       "      <td>Gaitskell</td>\n",
       "      <td>9</td>\n",
       "    </tr>\n",
       "    <tr>\n",
       "      <th>6</th>\n",
       "      <td>from</td>\n",
       "      <td>4</td>\n",
       "    </tr>\n",
       "    <tr>\n",
       "      <th>7</th>\n",
       "      <td>nominating</td>\n",
       "      <td>10</td>\n",
       "    </tr>\n",
       "    <tr>\n",
       "      <th>8</th>\n",
       "      <td>any</td>\n",
       "      <td>3</td>\n",
       "    </tr>\n",
       "    <tr>\n",
       "      <th>9</th>\n",
       "      <td>more</td>\n",
       "      <td>4</td>\n",
       "    </tr>\n",
       "  </tbody>\n",
       "</table>\n",
       "</div>"
      ],
      "text/plain": [
       "        words  len\n",
       "0           A    1\n",
       "1        MOVE    4\n",
       "2          to    2\n",
       "3        stop    4\n",
       "4         Mr.    3\n",
       "5   Gaitskell    9\n",
       "6        from    4\n",
       "7  nominating   10\n",
       "8         any    3\n",
       "9        more    4"
      ]
     },
     "execution_count": 5,
     "metadata": {},
     "output_type": "execute_result"
    }
   ],
   "source": [
    "# creation d'un dataframe wavec tous les mots et leur longueur\n",
    "df_words = pd.DataFrame(all_words, columns=['words'])\n",
    "df_words['len'] = df_words['words'].apply(lambda w: len(w))\n",
    "\n",
    "df_words.head(10)"
   ]
  },
  {
   "cell_type": "code",
   "execution_count": 14,
   "id": "41668726",
   "metadata": {},
   "outputs": [
    {
     "name": "stdout",
     "output_type": "stream",
     "text": [
      "Mot pourri :  107040    ----------------------------------------------...\n",
      "Name: words, dtype: object\n"
     ]
    }
   ],
   "source": [
    "#détection des outliers : un mot \"pourri\" trouvé\n",
    "# sns.displot(df_words['len'], kind = 'hist')\n",
    "# plt.title('Nombre de lettres par mot')\n",
    "print('Mot pourri : ', df_words['words'][df_words['len'] == 53])\n"
   ]
  },
  {
   "cell_type": "code",
   "execution_count": 7,
   "id": "61041908",
   "metadata": {},
   "outputs": [],
   "source": [
    "#suppression du \"faux\" mot pour meilleure visu\n",
    "df_words2 = df_words.drop(index=107040)"
   ]
  },
  {
   "cell_type": "code",
   "execution_count": 73,
   "id": "88332311",
   "metadata": {},
   "outputs": [
    {
     "name": "stdout",
     "output_type": "stream",
     "text": [
      "Nombre de mots différents :  13549\n",
      "Nombre de mots vues une seule fois :  7189\n",
      "Nombre de mots vues 1000+ fois :  11\n"
     ]
    },
    {
     "data": {
      "image/png": "[encoded data removed]",
      "text/plain": [
       "<Figure size 432x288 with 1 Axes>"
      ]
     },
     "metadata": {
      "needs_background": "light"
     },
     "output_type": "display_data"
    }
   ],
   "source": [
    "#Répartition des mots\n",
    "from collections import Counter\n",
    "\n",
    "df_words_count = pd.DataFrame(Counter(df_words2['words']).keys(), columns=['words'])\n",
    "df_words_count['count'] = Counter(df_words2['words']).values()\n",
    "df_words_count.sort_values(by='count', inplace=True, ascending=False)\n",
    "\n",
    "print('Nombre de mots différents : ', len(df_words2['words'].unique()));\n",
    "print('Nombre de mots vues une seule fois : ', len(df_words_count['count'][df_words_count['count'] == 1]));\n",
    "print('Nombre de mots vues 1000+ fois : ', len(df_words_count['count'][df_words_count['count'] >= 1000]));\n",
    "\n",
    "# df_words_count.head(20)\n",
    "# ax = plt.gca()\n",
    "# ax.axes.xaxis.set_visible(False)\n",
    "\n",
    "plt.plot(df_words_count['words'][df_words_count['count'] > 100], df_words_count['count'][df_words_count['count'] > 100])\n",
    "plt.xticks(np.arange(0, 100, 10), ['1', '10', '20', '30', '40', '50', '60', '70', '80', '90'])\n",
    "plt.title('Répartition des mots vus 100+ fois');\n",
    "\n",
    "### beaucoup de mots ne sont vus qu'une seule fois, d'autres sont vus de très nombreuses fois, attention à l'overfitting"
   ]
  },
  {
   "cell_type": "code",
   "execution_count": 19,
   "id": "5853d1ba",
   "metadata": {},
   "outputs": [
    {
     "name": "stdout",
     "output_type": "stream",
     "text": [
      "Nombre total de lettres :  475649\n",
      "Nombre moyen de lettres par mot:  4.124636876837295\n"
     ]
    },
    {
     "data": {
      "image/png": "[encoded data removed]",
      "text/plain": [
       "<Figure size 360x360 with 1 Axes>"
      ]
     },
     "metadata": {
      "needs_background": "light"
     },
     "output_type": "display_data"
    }
   ],
   "source": [
    "# Nombre de lettres par mot\n",
    "sns.displot(df_words2['len'], kind = 'hist')\n",
    "plt.title('Nombre de lettres par mot');\n",
    "\n",
    "print('Nombre total de lettres : ', df_words2['len'].sum())\n",
    "print('Nombre moyen de lettres par mot: ', df_words2['len'].mean())"
   ]
  },
  {
   "cell_type": "code",
   "execution_count": 58,
   "id": "0059f184",
   "metadata": {},
   "outputs": [
    {
     "data": {
      "text/plain": [
       "Text(0.5, 1.0, 'Répartition de tous les caractères')"
      ]
     },
     "execution_count": 58,
     "metadata": {},
     "output_type": "execute_result"
    },
    {
     "data": {
      "text/plain": [
       "<Figure size 1080x2160 with 0 Axes>"
      ]
     },
     "metadata": {},
     "output_type": "display_data"
    },
    {
     "data": {
      "image/png": "[encoded data removed]",
      "text/plain": [
       "<Figure size 1080x360 with 1 Axes>"
      ]
     },
     "metadata": {
      "needs_background": "light"
     },
     "output_type": "display_data"
    }
   ],
   "source": [
    "#répartition des lettres\n",
    "\n",
    "plt.figure(figsize=(15,30))\n",
    "sns.displot(all_letters, kind = 'hist', aspect=3)\n",
    "plt.title('Répartition de tous les caractères')"
   ]
  },
  {
   "cell_type": "code",
   "execution_count": 67,
   "id": "1dac3830",
   "metadata": {},
   "outputs": [
    {
     "name": "stdout",
     "output_type": "stream",
     "text": [
      "Nombre total de lettres (pour verif): 475702\n"
     ]
    },
    {
     "data": {
      "text/plain": [
       "<Figure size 1440x1440 with 0 Axes>"
      ]
     },
     "metadata": {},
     "output_type": "display_data"
    },
    {
     "data": {
      "image/png": "[encoded data removed]",
      "text/plain": [
       "<Figure size 1080x1080 with 4 Axes>"
      ]
     },
     "metadata": {
      "needs_background": "light"
     },
     "output_type": "display_data"
    }
   ],
   "source": [
    "all_letters_low = [x for x in all_letters if x.islower()]\n",
    "all_letters_up = [x for x in all_letters if x.isupper()]\n",
    "all_letters_nbr = [x for x in all_letters if x.isdigit()]\n",
    "all_letters_punc = [x for x in all_letters if (not x.islower()) and (not x.isupper()) and (not x.isdigit())]\n",
    "\n",
    "print('Nombre total de lettres (pour verif):', len(all_letters_low)+len(all_letters_up)+len(all_letters_nbr)+len(all_letters_punc))\n",
    "\n",
    "plt.figure(figsize= (20,20))\n",
    "\n",
    "fig, axs = plt.subplots(2,2, figsize=(15,15))\n",
    "fig.suptitle('Répartition des lettres par type', fontsize=16)\n",
    "axs[0,0].bar(Counter(all_letters_low).keys(), Counter(all_letters_low).values());\n",
    "axs[0,0].set_title('Minuscules')\n",
    "\n",
    "axs[0,1].bar(Counter(all_letters_up).keys(), Counter(all_letters_up).values()); \n",
    "axs[0,1].set_title('Majuscules')\n",
    "\n",
    "axs[1,0].bar(Counter(all_letters_nbr).keys(), Counter(all_letters_nbr).values());\n",
    "axs[1,0].set_title('Nombres')\n",
    "\n",
    "axs[1,1].bar(Counter(all_letters_punc).keys(), Counter(all_letters_punc).values());\n",
    "axs[1,1].set_title('Ponctuation')\n",
    "\n",
    "plt.show();\n",
    "\n",
    "### bonne répartition des lettres par rapport à l'usage de celles-ci dans la langue "
   ]
  }
 ],
 "metadata": {
  "kernelspec": {
   "display_name": "Python 3 (ipykernel)",
   "language": "python",
   "name": "python3"
  },
  "language_info": {
   "codemirror_mode": {
    "name": "ipython",
    "version": 3
   },
   "file_extension": ".py",
   "mimetype": "text/x-python",
   "name": "python",
   "nbconvert_exporter": "python",
   "pygments_lexer": "ipython3",
   "version": "3.9.12"
  }
 },
 "nbformat": 4,
 "nbformat_minor": 5
}
